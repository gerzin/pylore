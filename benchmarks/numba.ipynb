{
 "cells": [
  {
   "attachments": {},
   "cell_type": "markdown",
   "metadata": {},
   "source": [
    "### Difference between a numba version of a method and the pure python one"
   ]
  },
  {
   "cell_type": "code",
   "execution_count": 1,
   "metadata": {},
   "outputs": [],
   "source": [
    "import numpy as np\n",
    "from numba import njit\n",
    "import matplotlib.pyplot as plt"
   ]
  },
  {
   "attachments": {},
   "cell_type": "markdown",
   "metadata": {},
   "source": [
    "#### crossover"
   ]
  },
  {
   "cell_type": "code",
   "execution_count": 2,
   "metadata": {},
   "outputs": [],
   "source": [
    "@njit(cache=True)\n",
    "def crossover_numba(population, k):\n",
    "    n_parents, n_features = population.shape\n",
    "    new_population = np.zeros((n_parents // 2, n_features))\n",
    "\n",
    "    # Perform crossover between consecutive parents\n",
    "    for i in range(0, n_parents, 2):\n",
    "        parent1 = population[i]\n",
    "        parent2 = population[i + 1]\n",
    "\n",
    "        indices = np.random.choice(n_features, size=k, replace=False)\n",
    "\n",
    "        child = parent1.copy()\n",
    "        child[indices] = parent2[indices]\n",
    "\n",
    "        new_population[i // 2] = child\n",
    "\n",
    "    return new_population"
   ]
  },
  {
   "cell_type": "code",
   "execution_count": 3,
   "metadata": {},
   "outputs": [],
   "source": [
    "def crossover(population, k):\n",
    "    n_parents, n_features = population.shape\n",
    "    new_population = np.zeros((n_parents // 2, n_features))\n",
    "\n",
    "    # Perform crossover between consecutive parents\n",
    "    for i in range(0, n_parents, 2):\n",
    "        parent1 = population[i]\n",
    "        parent2 = population[i + 1]\n",
    "\n",
    "        indices = np.random.choice(n_features, size=k, replace=False)\n",
    "\n",
    "        child = parent1.copy()\n",
    "        child[indices] = parent2[indices]\n",
    "\n",
    "        new_population[i // 2] = child\n",
    "\n",
    "    return new_population"
   ]
  },
  {
   "attachments": {},
   "cell_type": "markdown",
   "metadata": {},
   "source": [
    "First time a function is executed numba is going to be slower due to compilation"
   ]
  },
  {
   "cell_type": "code",
   "execution_count": 4,
   "metadata": {},
   "outputs": [],
   "source": [
    "data = np.random.randint(0, 100, size=(1000, 20))\n",
    "K=7"
   ]
  },
  {
   "cell_type": "code",
   "execution_count": 5,
   "metadata": {},
   "outputs": [
    {
     "name": "stdout",
     "output_type": "stream",
     "text": [
      "166 ms ± 0 ns per loop (mean ± std. dev. of 1 run, 1 loop each)\n",
      "5.79 ms ± 0 ns per loop (mean ± std. dev. of 1 run, 1 loop each)\n"
     ]
    }
   ],
   "source": [
    "result_numba_0 = %timeit -n1 -r1 -o crossover_numba(data, K)\n",
    "result_python_0 = %timeit -n1 -r1 -o crossover(data, K)"
   ]
  },
  {
   "cell_type": "code",
   "execution_count": 6,
   "metadata": {},
   "outputs": [
    {
     "data": {
      "text/plain": [
       "Text(0.5, 1.0, 'First time run | len(data) = 1000 K = 7')"
      ]
     },
     "execution_count": 6,
     "metadata": {},
     "output_type": "execute_result"
    },
    {
     "data": {
      "image/png": "[encoded data removed]",
      "text/plain": [
       "<Figure size 800x500 with 1 Axes>"
      ]
     },
     "metadata": {},
     "output_type": "display_data"
    }
   ],
   "source": [
    "fig, ax = plt.subplots(1,1, figsize=(8, 5))\n",
    "ax.set_yscale('log')\n",
    "ax.bar([\"Numba\", \"Python\"], [result_numba_0.average, result_python_0.average])\n",
    "ax.set_title(f\"First time run | {len(data) = } {K = }\")"
   ]
  },
  {
   "attachments": {},
   "cell_type": "markdown",
   "metadata": {},
   "source": [
    "After the first time, numba is going to be way faster."
   ]
  },
  {
   "cell_type": "code",
   "execution_count": 7,
   "metadata": {},
   "outputs": [
    {
     "name": "stdout",
     "output_type": "stream",
     "text": [
      "428 µs ± 11.8 µs per loop (mean ± std. dev. of 10 runs, 10 loops each)\n",
      "5.71 ms ± 479 µs per loop (mean ± std. dev. of 10 runs, 10 loops each)\n"
     ]
    }
   ],
   "source": [
    "result_numba = %timeit -n10 -r10 -o crossover_numba(data, 7)\n",
    "result_python = %timeit -n10 -r10 -o crossover(data, 7)"
   ]
  },
  {
   "cell_type": "code",
   "execution_count": 8,
   "metadata": {},
   "outputs": [
    {
     "data": {
      "text/plain": [
       "Text(0.5, 1.0, 'Average over 100 runs | len(data) = 1000 K = 7')"
      ]
     },
     "execution_count": 8,
     "metadata": {},
     "output_type": "execute_result"
    },
    {
     "data": {
      "image/png": "[encoded data removed]",
      "text/plain": [
       "<Figure size 800x500 with 1 Axes>"
      ]
     },
     "metadata": {},
     "output_type": "display_data"
    }
   ],
   "source": [
    "fig, ax = plt.subplots(1,1, figsize=(8, 5))\n",
    "ax.set_yscale('log')\n",
    "ax.bar([\"Numba\", \"Python\"], [result_numba.average, result_python.average])\n",
    "ax.set_title(f\"Average over 100 runs | {len(data) = } {K = }\")"
   ]
  },
  {
   "cell_type": "code",
   "execution_count": 9,
   "metadata": {},
   "outputs": [
    {
     "name": "stdout",
     "output_type": "stream",
     "text": [
      "result_python_0.average / result_numba_0.average = 0.03483445767239884\n",
      "result_python.average / result_numba.average = 13.351805280432862\n"
     ]
    }
   ],
   "source": [
    "print(f\"{result_python_0.average / result_numba_0.average = }\")\n",
    "print(f\"{result_python.average / result_numba.average = }\")"
   ]
  },
  {
   "attachments": {},
   "cell_type": "markdown",
   "metadata": {},
   "source": [
    "Dataset increase"
   ]
  },
  {
   "cell_type": "code",
   "execution_count": 20,
   "metadata": {},
   "outputs": [
    {
     "name": "stdout",
     "output_type": "stream",
     "text": [
      "898 µs ± 0 ns per loop (mean ± std. dev. of 1 run, 1 loop each)\n",
      "21.5 µs ± 0 ns per loop (mean ± std. dev. of 1 run, 1 loop each)\n",
      "632 µs ± 0 ns per loop (mean ± std. dev. of 1 run, 1 loop each)\n",
      "60.1 µs ± 0 ns per loop (mean ± std. dev. of 1 run, 1 loop each)\n",
      "6.54 ms ± 0 ns per loop (mean ± std. dev. of 1 run, 1 loop each)\n",
      "329 µs ± 0 ns per loop (mean ± std. dev. of 1 run, 1 loop each)\n",
      "66.7 ms ± 0 ns per loop (mean ± std. dev. of 1 run, 1 loop each)\n",
      "2.7 ms ± 0 ns per loop (mean ± std. dev. of 1 run, 1 loop each)\n"
     ]
    },
    {
     "data": {
      "text/plain": [
       "Text(0.5, 1.0, 'Python')"
      ]
     },
     "execution_count": 20,
     "metadata": {},
     "output_type": "execute_result"
    },
    {
     "data": {
      "image/png": "[encoded data removed]",
      "text/plain": [
       "<Figure size 800x500 with 2 Axes>"
      ]
     },
     "metadata": {},
     "output_type": "display_data"
    }
   ],
   "source": [
    "numbas = []\n",
    "pythons = []\n",
    "sizes = [*range(1,5)]\n",
    "for i in sizes:\n",
    "    data = np.random.randint(0, 100, size=(10**i, 20))\n",
    "    res = %timeit -n1 -r1 -o crossover(data, 7)\n",
    "    pythons.append(res.average)\n",
    "    res = %timeit -n1 -r1 -o crossover_numba(data, 7)\n",
    "    numbas.append(res.average)\n",
    "\n",
    "fix, (ax1, ax2) = plt.subplots(1, 2, figsize=(8, 5), sharey=True)\n",
    "ax1.bar([f\"{10**i}\" for i in sizes], numbas)\n",
    "ax2.bar([f\"{10**i}\" for i in sizes], pythons)\n",
    "ax1.set_title(\"Numba\")\n",
    "ax2.set_title(\"Python\")"
   ]
  }
 ],
 "metadata": {
  "kernelspec": {
   "display_name": "Python 3",
   "language": "python",
   "name": "python3"
  },
  "language_info": {
   "codemirror_mode": {
    "name": "ipython",
    "version": 3
   },
   "file_extension": ".py",
   "mimetype": "text/x-python",
   "name": "python",
   "nbconvert_exporter": "python",
   "pygments_lexer": "ipython3",
   "version": "3.11.0"
  },
  "orig_nbformat": 4
 },
 "nbformat": 4,
 "nbformat_minor": 2
}
